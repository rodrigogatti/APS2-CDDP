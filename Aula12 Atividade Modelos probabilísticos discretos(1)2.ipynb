{
 "cells": [
  {
   "cell_type": "markdown",
   "metadata": {},
   "source": [
    " ___\n",
    "# Atividade: Modelos probabilísticos discretos\n",
    "___\n",
    "\n",
    "## Aula 12\n",
    "\n",
    "**Referência de Leitura:**\n",
    "1. Magalhães e Lima (7ª. Edição): Seções 3.2 e 3.3\n",
    "\n",
    "**Hoje:**\n",
    "1.\tDescrever modelos discretos quanto aos resultados teóricos.\n",
    "2.\tExplicar a utilização de modelos probabilísticos no contexto da literatura estatística.\n",
    "3.\tContrastar resultados teóricos e empíricos.\n",
    "4.\tFechamento do conteúdo.\n",
    "\n",
    "**Próxima aula:**\n",
    "1. Leitura prévia necessária: Magalhães e Lima (7ª. Edição): Capítulo 6 - Seção 6.1.\n",
    "\n",
    "___"
   ]
  },
  {
   "cell_type": "code",
   "execution_count": 9,
   "metadata": {},
   "outputs": [],
   "source": [
    "%matplotlib inline\n",
    "import pandas as pd\n",
    "import matplotlib.pyplot as plt\n",
    "\n",
    "from scipy import stats #importa apenas as funções de estatísticas da biblioteca SciPy.\n",
    "import itertools #importante para gerar todos os resultados possíveis!!\n"
   ]
  },
  {
   "cell_type": "markdown",
   "metadata": {},
   "source": [
    "___\n",
    "## <font color='blue'>Exercício 1</font>\n",
    "\n",
    "### <font color='red'>**Publicar no github até dia 10/04 INDIVIDUAL **</font>\n",
    "\n",
    "\n",
    "#### Este exercício irá explorar  construção de árvore de probabilidades com eventos e construção da distribuição de probabilidades de uma variável aleatória discreta. Ainda, irá explorar o modelo de distribuição probabilística Binomial\n",
    "\n",
    "Um resistor de 100K Ohms comprado na Santa Efigênia tem probabilidade de falha de 5%, segundo um fabricante ruim.\n",
    "\n",
    "Ainda, por suposição, admita que os resistores falhem de forma independente entre si.\n",
    "\n",
    "Um aluno de engenharia compra um pacote contendo $n$ resistores.\n",
    "\n",
    "1. Assuma $n=3$ e faça os itens a seguir.\n",
    "  1. Monte o espaço amostral que combine todos os resultados possíveis de Falha e não Falha desses $n$ resistores. Ainda, calcule a probabilidade de cada resultado do espaço amostral acontecer.\n",
    "  2. Se $Y$ representa o número de resistores que falham em um pacotinho com $n$ resistores, então construa a distribuição de probabilidades de $Y$.\n",
    "  3. Calcule a média e o desvio padrão de $Y$. Interprete os resultados.\n",
    "  4. Utilizando o modelo probabilístico da distribuição Binomial, encontre a distribuição de probabilidades de cada possível valor de $Y$. Calcule também $E(Y)$ e $Var(Y)$. Compare com as distribuições de probabilidades obtidas nos itens anteriores e discuta porque esses valores são iguais ou diferentes!\n",
    "   \n",
    "2. Assuma $n=7$ e repita os itens A) a D) anteriores. No caso de $n=7$ ou maiores quantidades de resistores em um pacotinho, qual a viabilidade de construir a distribuição de probabilidades do número de resistores com defeitos quando $n$ não é pequeno seguindo os itens de A) a C)?\n",
    " \n",
    "3. Com $n=100$, por exemplo, é extremamente inviável a construção de árvore de probabilidades até mesmo utilizando a poderosa ferramenta Python. \n",
    "  1. No caso assuma $n=100$ e repita o item 1.D) anterior. \n",
    "  2. Ainda, calcule a probabilidade de, em um pacote com 100 resistores, pelo menos a metade deles apresentarem falha?\n",
    "\n",
    "\n",
    "A seguir, um resumo sobre o modelo teórico Binomial!    \n",
    "> \n",
    "\n",
    "> **DISTRIBUIÇÃO BINOMIAL - TEORIA:**\n",
    "\n",
    "> É responsável por modelar uma variável $Y$ definida pelo Número de sucessos em $n$ tentativas, cuja probabilidade de sucesso é dada por $p$. Assim, dizemos que $Y$~$Bin(n,p)$ e lê-se: $Y$ segue uma distribuição binomial com $n$ tentativas e $p$ como probabilidade de sucesso. \n",
    "\n",
    "> A função de probabilidade nesse caso é dada por:\n",
    "$P(Y=y)=\\left(\n",
    "\\begin{array}{c}\n",
    "    n \\\\\n",
    "    y\n",
    "\\end{array}\\right) p^y (1-p)^{(n-y)}$\n",
    "\n",
    "> Para um experimento ter as probabilidade dos números de sucessos modeladas por uma distribuição Binomial, o mesmo precisa ter as seguintes propriedades:\n",
    "* é uma contagem de $n$ repetições (ou tentativas ou ensaios) idênticas;\n",
    "* cada repetição tem apenas 2 resultados possíveis: um é denominado sucesso e o outro, fracasso;\n",
    "* a probabilidade de sucesso para cada ensaio é denominada $p$ e será constante em cada repetição. Então, a probabilidade de fracasso $(1-p)$ também não varia de tentativa para tentativa;\n",
    "* As tentativas são independentes.\n",
    "\n",
    "\n",
    "> **DISTRIBUIÇÃO BINOMIAL - PYTHON:** <sup> [https://en.wikipedia.org/wiki/SciPy]\n",
    "\n",
    "> Algumas funções úteis para desenvolver seu código: <sup> [http://docs.scipy.org/doc/scipy-0.16.1/reference/generated/scipy.stats.binom.html]\n",
    "* $P(Y=y)$: `stats.binom.pmf(y, n, p)`\n",
    "* $P(Y\\leq y)$: `stats.binom.cdf(y, n, p)`\n",
    "* $E(Y)$ e $Var(Y)$: `stats.binom.stats(n, p, moments='mv')`\n",
    "\n"
   ]
  },
  {
   "cell_type": "code",
   "execution_count": 10,
   "metadata": {},
   "outputs": [],
   "source": [
    "#item 1\n",
    "n=3\n",
    "#item 2\n",
    "n=7"
   ]
  },
  {
   "cell_type": "code",
   "execution_count": 11,
   "metadata": {},
   "outputs": [
    {
     "data": {
      "text/plain": [
       "[('S', 'S', 'S'),\n",
       " ('S', 'S', 'F'),\n",
       " ('S', 'F', 'S'),\n",
       " ('S', 'F', 'F'),\n",
       " ('F', 'S', 'S'),\n",
       " ('F', 'S', 'F'),\n",
       " ('F', 'F', 'S'),\n",
       " ('F', 'F', 'F')]"
      ]
     },
     "execution_count": 11,
     "metadata": {},
     "output_type": "execute_result"
    }
   ],
   "source": [
    "#A- espaço amostral\n",
    "\n",
    "acontecimentos = [\"S\", \"F\"]\n",
    "\n",
    "prob = {\"S\": 0.95, \"F\":0.05}\n",
    "\n",
    "n=3\n",
    "\n",
    "arranjos = itertools.product(acontecimentos, repeat=n)\n",
    "EA = list(arranjos)\n",
    "\n",
    "EA"
   ]
  },
  {
   "cell_type": "code",
   "execution_count": 12,
   "metadata": {},
   "outputs": [
    {
     "name": "stdout",
     "output_type": "stream",
     "text": [
      "Probabilidade de  ('S', 'S', 'S')  é igual a  0.85737\n",
      "Probabilidade de  ('S', 'S', 'F')  é igual a  0.04512\n",
      "Probabilidade de  ('S', 'F', 'S')  é igual a  0.04512\n",
      "Probabilidade de  ('S', 'F', 'F')  é igual a  0.00238\n",
      "Probabilidade de  ('F', 'S', 'S')  é igual a  0.04512\n",
      "Probabilidade de  ('F', 'S', 'F')  é igual a  0.00238\n",
      "Probabilidade de  ('F', 'F', 'S')  é igual a  0.00238\n",
      "Probabilidade de  ('F', 'F', 'F')  é igual a  0.00013\n"
     ]
    }
   ],
   "source": [
    "prob_EA = []\n",
    "\n",
    "for i in EA:\n",
    "    p = 1.0\n",
    "    for e in i:\n",
    "        p*=prob[e]\n",
    "    prob_EA.append(p)\n",
    "    print(\"Probabilidade de \",i,\" é igual a \",\"%3.5f\"%p)"
   ]
  },
  {
   "cell_type": "code",
   "execution_count": 13,
   "metadata": {},
   "outputs": [
    {
     "name": "stdout",
     "output_type": "stream",
     "text": [
      "Distribuição de probabilidades dos resistores que falharam\n",
      "\n",
      "Falhas:  0  Probabilidade 0.85737 \n",
      "Falhas:  1  Probabilidade 0.13537 \n",
      "Falhas:  2  Probabilidade 0.00713 \n",
      "Falhas:  3  Probabilidade 0.00013 \n"
     ]
    }
   ],
   "source": [
    "#distribuição probs\n",
    "\n",
    "# Dicionário para acumular a variável aleatória. \n",
    "val_Y = {}\n",
    "\n",
    "for i in range(len(EA)):\n",
    "    y = EA[i].count(\"F\")\n",
    "    # Checar antes se a chave está no dicionário\n",
    "    if y in val_Y:\n",
    "        val_Y[y] += prob_EA[i]\n",
    "    else:\n",
    "        val_Y[y] = prob_EA[i]\n",
    "        \n",
    "print(\"Distribuição de probabilidades dos resistores que falharam\")\n",
    "print('')\n",
    "for y in val_Y:\n",
    "    print(\"Falhas: \", y, \" Probabilidade\", \"%6.5f \"%val_Y[y])"
   ]
  },
  {
   "cell_type": "code",
   "execution_count": 15,
   "metadata": {},
   "outputs": [
    {
     "name": "stdout",
     "output_type": "stream",
     "text": [
      "Média: 0.15002 Desvio Padrão: 0.37749172229335043\n"
     ]
    }
   ],
   "source": [
    "#C- media e desvio\n",
    "\n",
    "media = 0.85737*0 +  0.13537*1 + 0.00713 *2 + 0.00013* 3\n",
    "\n",
    "Var = 0\n",
    "for i in val_Y:\n",
    "    Var = Var+(i-media)**2*val_Y[i]\n",
    "desvio = (Var)**(1/2)\n",
    "\n",
    "print('Média:',media,'Desvio Padrão:',desvio)"
   ]
  },
  {
   "cell_type": "code",
   "execution_count": 16,
   "metadata": {},
   "outputs": [
    {
     "name": "stdout",
     "output_type": "stream",
     "text": [
      "0.9996250468730469\n",
      "0.00037490625585937475\n",
      "4.6869140625000114e-08\n",
      "1.9531249999999965e-12\n"
     ]
    }
   ],
   "source": [
    "#D-distribuiçao de falhas para n=3\n",
    "\n",
    "n=3\n",
    "for i in range(4):\n",
    "    prob2 = stats.binom.pmf(i, n, p)\n",
    "    print(prob2)"
   ]
  },
  {
   "cell_type": "code",
   "execution_count": 17,
   "metadata": {},
   "outputs": [
    {
     "name": "stdout",
     "output_type": "stream",
     "text": [
      "0.0003750000000000001\n",
      "0.0003749531250000001\n"
     ]
    }
   ],
   "source": [
    "#esperança\n",
    "\n",
    "E,Var = stats.binom.stats(n, p, moments='mv')\n",
    "print(E) #E(Y)\n",
    "print(Var) #Var(Y)"
   ]
  },
  {
   "cell_type": "code",
   "execution_count": 18,
   "metadata": {},
   "outputs": [
    {
     "data": {
      "text/plain": [
       "[('S', 'S', 'S', 'S', 'S', 'S', 'S'),\n",
       " ('S', 'S', 'S', 'S', 'S', 'S', 'F'),\n",
       " ('S', 'S', 'S', 'S', 'S', 'F', 'S'),\n",
       " ('S', 'S', 'S', 'S', 'S', 'F', 'F'),\n",
       " ('S', 'S', 'S', 'S', 'F', 'S', 'S'),\n",
       " ('S', 'S', 'S', 'S', 'F', 'S', 'F'),\n",
       " ('S', 'S', 'S', 'S', 'F', 'F', 'S'),\n",
       " ('S', 'S', 'S', 'S', 'F', 'F', 'F'),\n",
       " ('S', 'S', 'S', 'F', 'S', 'S', 'S'),\n",
       " ('S', 'S', 'S', 'F', 'S', 'S', 'F'),\n",
       " ('S', 'S', 'S', 'F', 'S', 'F', 'S'),\n",
       " ('S', 'S', 'S', 'F', 'S', 'F', 'F'),\n",
       " ('S', 'S', 'S', 'F', 'F', 'S', 'S'),\n",
       " ('S', 'S', 'S', 'F', 'F', 'S', 'F'),\n",
       " ('S', 'S', 'S', 'F', 'F', 'F', 'S'),\n",
       " ('S', 'S', 'S', 'F', 'F', 'F', 'F'),\n",
       " ('S', 'S', 'F', 'S', 'S', 'S', 'S'),\n",
       " ('S', 'S', 'F', 'S', 'S', 'S', 'F'),\n",
       " ('S', 'S', 'F', 'S', 'S', 'F', 'S'),\n",
       " ('S', 'S', 'F', 'S', 'S', 'F', 'F'),\n",
       " ('S', 'S', 'F', 'S', 'F', 'S', 'S'),\n",
       " ('S', 'S', 'F', 'S', 'F', 'S', 'F'),\n",
       " ('S', 'S', 'F', 'S', 'F', 'F', 'S'),\n",
       " ('S', 'S', 'F', 'S', 'F', 'F', 'F'),\n",
       " ('S', 'S', 'F', 'F', 'S', 'S', 'S'),\n",
       " ('S', 'S', 'F', 'F', 'S', 'S', 'F'),\n",
       " ('S', 'S', 'F', 'F', 'S', 'F', 'S'),\n",
       " ('S', 'S', 'F', 'F', 'S', 'F', 'F'),\n",
       " ('S', 'S', 'F', 'F', 'F', 'S', 'S'),\n",
       " ('S', 'S', 'F', 'F', 'F', 'S', 'F'),\n",
       " ('S', 'S', 'F', 'F', 'F', 'F', 'S'),\n",
       " ('S', 'S', 'F', 'F', 'F', 'F', 'F'),\n",
       " ('S', 'F', 'S', 'S', 'S', 'S', 'S'),\n",
       " ('S', 'F', 'S', 'S', 'S', 'S', 'F'),\n",
       " ('S', 'F', 'S', 'S', 'S', 'F', 'S'),\n",
       " ('S', 'F', 'S', 'S', 'S', 'F', 'F'),\n",
       " ('S', 'F', 'S', 'S', 'F', 'S', 'S'),\n",
       " ('S', 'F', 'S', 'S', 'F', 'S', 'F'),\n",
       " ('S', 'F', 'S', 'S', 'F', 'F', 'S'),\n",
       " ('S', 'F', 'S', 'S', 'F', 'F', 'F'),\n",
       " ('S', 'F', 'S', 'F', 'S', 'S', 'S'),\n",
       " ('S', 'F', 'S', 'F', 'S', 'S', 'F'),\n",
       " ('S', 'F', 'S', 'F', 'S', 'F', 'S'),\n",
       " ('S', 'F', 'S', 'F', 'S', 'F', 'F'),\n",
       " ('S', 'F', 'S', 'F', 'F', 'S', 'S'),\n",
       " ('S', 'F', 'S', 'F', 'F', 'S', 'F'),\n",
       " ('S', 'F', 'S', 'F', 'F', 'F', 'S'),\n",
       " ('S', 'F', 'S', 'F', 'F', 'F', 'F'),\n",
       " ('S', 'F', 'F', 'S', 'S', 'S', 'S'),\n",
       " ('S', 'F', 'F', 'S', 'S', 'S', 'F'),\n",
       " ('S', 'F', 'F', 'S', 'S', 'F', 'S'),\n",
       " ('S', 'F', 'F', 'S', 'S', 'F', 'F'),\n",
       " ('S', 'F', 'F', 'S', 'F', 'S', 'S'),\n",
       " ('S', 'F', 'F', 'S', 'F', 'S', 'F'),\n",
       " ('S', 'F', 'F', 'S', 'F', 'F', 'S'),\n",
       " ('S', 'F', 'F', 'S', 'F', 'F', 'F'),\n",
       " ('S', 'F', 'F', 'F', 'S', 'S', 'S'),\n",
       " ('S', 'F', 'F', 'F', 'S', 'S', 'F'),\n",
       " ('S', 'F', 'F', 'F', 'S', 'F', 'S'),\n",
       " ('S', 'F', 'F', 'F', 'S', 'F', 'F'),\n",
       " ('S', 'F', 'F', 'F', 'F', 'S', 'S'),\n",
       " ('S', 'F', 'F', 'F', 'F', 'S', 'F'),\n",
       " ('S', 'F', 'F', 'F', 'F', 'F', 'S'),\n",
       " ('S', 'F', 'F', 'F', 'F', 'F', 'F'),\n",
       " ('F', 'S', 'S', 'S', 'S', 'S', 'S'),\n",
       " ('F', 'S', 'S', 'S', 'S', 'S', 'F'),\n",
       " ('F', 'S', 'S', 'S', 'S', 'F', 'S'),\n",
       " ('F', 'S', 'S', 'S', 'S', 'F', 'F'),\n",
       " ('F', 'S', 'S', 'S', 'F', 'S', 'S'),\n",
       " ('F', 'S', 'S', 'S', 'F', 'S', 'F'),\n",
       " ('F', 'S', 'S', 'S', 'F', 'F', 'S'),\n",
       " ('F', 'S', 'S', 'S', 'F', 'F', 'F'),\n",
       " ('F', 'S', 'S', 'F', 'S', 'S', 'S'),\n",
       " ('F', 'S', 'S', 'F', 'S', 'S', 'F'),\n",
       " ('F', 'S', 'S', 'F', 'S', 'F', 'S'),\n",
       " ('F', 'S', 'S', 'F', 'S', 'F', 'F'),\n",
       " ('F', 'S', 'S', 'F', 'F', 'S', 'S'),\n",
       " ('F', 'S', 'S', 'F', 'F', 'S', 'F'),\n",
       " ('F', 'S', 'S', 'F', 'F', 'F', 'S'),\n",
       " ('F', 'S', 'S', 'F', 'F', 'F', 'F'),\n",
       " ('F', 'S', 'F', 'S', 'S', 'S', 'S'),\n",
       " ('F', 'S', 'F', 'S', 'S', 'S', 'F'),\n",
       " ('F', 'S', 'F', 'S', 'S', 'F', 'S'),\n",
       " ('F', 'S', 'F', 'S', 'S', 'F', 'F'),\n",
       " ('F', 'S', 'F', 'S', 'F', 'S', 'S'),\n",
       " ('F', 'S', 'F', 'S', 'F', 'S', 'F'),\n",
       " ('F', 'S', 'F', 'S', 'F', 'F', 'S'),\n",
       " ('F', 'S', 'F', 'S', 'F', 'F', 'F'),\n",
       " ('F', 'S', 'F', 'F', 'S', 'S', 'S'),\n",
       " ('F', 'S', 'F', 'F', 'S', 'S', 'F'),\n",
       " ('F', 'S', 'F', 'F', 'S', 'F', 'S'),\n",
       " ('F', 'S', 'F', 'F', 'S', 'F', 'F'),\n",
       " ('F', 'S', 'F', 'F', 'F', 'S', 'S'),\n",
       " ('F', 'S', 'F', 'F', 'F', 'S', 'F'),\n",
       " ('F', 'S', 'F', 'F', 'F', 'F', 'S'),\n",
       " ('F', 'S', 'F', 'F', 'F', 'F', 'F'),\n",
       " ('F', 'F', 'S', 'S', 'S', 'S', 'S'),\n",
       " ('F', 'F', 'S', 'S', 'S', 'S', 'F'),\n",
       " ('F', 'F', 'S', 'S', 'S', 'F', 'S'),\n",
       " ('F', 'F', 'S', 'S', 'S', 'F', 'F'),\n",
       " ('F', 'F', 'S', 'S', 'F', 'S', 'S'),\n",
       " ('F', 'F', 'S', 'S', 'F', 'S', 'F'),\n",
       " ('F', 'F', 'S', 'S', 'F', 'F', 'S'),\n",
       " ('F', 'F', 'S', 'S', 'F', 'F', 'F'),\n",
       " ('F', 'F', 'S', 'F', 'S', 'S', 'S'),\n",
       " ('F', 'F', 'S', 'F', 'S', 'S', 'F'),\n",
       " ('F', 'F', 'S', 'F', 'S', 'F', 'S'),\n",
       " ('F', 'F', 'S', 'F', 'S', 'F', 'F'),\n",
       " ('F', 'F', 'S', 'F', 'F', 'S', 'S'),\n",
       " ('F', 'F', 'S', 'F', 'F', 'S', 'F'),\n",
       " ('F', 'F', 'S', 'F', 'F', 'F', 'S'),\n",
       " ('F', 'F', 'S', 'F', 'F', 'F', 'F'),\n",
       " ('F', 'F', 'F', 'S', 'S', 'S', 'S'),\n",
       " ('F', 'F', 'F', 'S', 'S', 'S', 'F'),\n",
       " ('F', 'F', 'F', 'S', 'S', 'F', 'S'),\n",
       " ('F', 'F', 'F', 'S', 'S', 'F', 'F'),\n",
       " ('F', 'F', 'F', 'S', 'F', 'S', 'S'),\n",
       " ('F', 'F', 'F', 'S', 'F', 'S', 'F'),\n",
       " ('F', 'F', 'F', 'S', 'F', 'F', 'S'),\n",
       " ('F', 'F', 'F', 'S', 'F', 'F', 'F'),\n",
       " ('F', 'F', 'F', 'F', 'S', 'S', 'S'),\n",
       " ('F', 'F', 'F', 'F', 'S', 'S', 'F'),\n",
       " ('F', 'F', 'F', 'F', 'S', 'F', 'S'),\n",
       " ('F', 'F', 'F', 'F', 'S', 'F', 'F'),\n",
       " ('F', 'F', 'F', 'F', 'F', 'S', 'S'),\n",
       " ('F', 'F', 'F', 'F', 'F', 'S', 'F'),\n",
       " ('F', 'F', 'F', 'F', 'F', 'F', 'S'),\n",
       " ('F', 'F', 'F', 'F', 'F', 'F', 'F')]"
      ]
     },
     "execution_count": 18,
     "metadata": {},
     "output_type": "execute_result"
    }
   ],
   "source": [
    "#exercio2\n",
    "\n",
    "acontecimentos = [\"S\", \"F\"]\n",
    "\n",
    "prob = {\"S\": 0.95, \"F\":0.05}\n",
    "\n",
    "n=7\n",
    "\n",
    "arranjos = itertools.product(acontecimentos, repeat=n)\n",
    "EA = list(arranjos)\n",
    "\n",
    "EA"
   ]
  },
  {
   "cell_type": "code",
   "execution_count": 20,
   "metadata": {},
   "outputs": [
    {
     "name": "stdout",
     "output_type": "stream",
     "text": [
      "Probabilidade de  ('S', 'S', 'S', 'S', 'S', 'S', 'S')  é igual a  0.69834\n",
      "Probabilidade de  ('S', 'S', 'S', 'S', 'S', 'S', 'F')  é igual a  0.03675\n",
      "Probabilidade de  ('S', 'S', 'S', 'S', 'S', 'F', 'S')  é igual a  0.03675\n",
      "Probabilidade de  ('S', 'S', 'S', 'S', 'S', 'F', 'F')  é igual a  0.00193\n",
      "Probabilidade de  ('S', 'S', 'S', 'S', 'F', 'S', 'S')  é igual a  0.03675\n",
      "Probabilidade de  ('S', 'S', 'S', 'S', 'F', 'S', 'F')  é igual a  0.00193\n",
      "Probabilidade de  ('S', 'S', 'S', 'S', 'F', 'F', 'S')  é igual a  0.00193\n",
      "Probabilidade de  ('S', 'S', 'S', 'S', 'F', 'F', 'F')  é igual a  0.00010\n",
      "Probabilidade de  ('S', 'S', 'S', 'F', 'S', 'S', 'S')  é igual a  0.03675\n",
      "Probabilidade de  ('S', 'S', 'S', 'F', 'S', 'S', 'F')  é igual a  0.00193\n",
      "Probabilidade de  ('S', 'S', 'S', 'F', 'S', 'F', 'S')  é igual a  0.00193\n",
      "Probabilidade de  ('S', 'S', 'S', 'F', 'S', 'F', 'F')  é igual a  0.00010\n",
      "Probabilidade de  ('S', 'S', 'S', 'F', 'F', 'S', 'S')  é igual a  0.00193\n",
      "Probabilidade de  ('S', 'S', 'S', 'F', 'F', 'S', 'F')  é igual a  0.00010\n",
      "Probabilidade de  ('S', 'S', 'S', 'F', 'F', 'F', 'S')  é igual a  0.00010\n",
      "Probabilidade de  ('S', 'S', 'S', 'F', 'F', 'F', 'F')  é igual a  0.00001\n",
      "Probabilidade de  ('S', 'S', 'F', 'S', 'S', 'S', 'S')  é igual a  0.03675\n",
      "Probabilidade de  ('S', 'S', 'F', 'S', 'S', 'S', 'F')  é igual a  0.00193\n",
      "Probabilidade de  ('S', 'S', 'F', 'S', 'S', 'F', 'S')  é igual a  0.00193\n",
      "Probabilidade de  ('S', 'S', 'F', 'S', 'S', 'F', 'F')  é igual a  0.00010\n",
      "Probabilidade de  ('S', 'S', 'F', 'S', 'F', 'S', 'S')  é igual a  0.00193\n",
      "Probabilidade de  ('S', 'S', 'F', 'S', 'F', 'S', 'F')  é igual a  0.00010\n",
      "Probabilidade de  ('S', 'S', 'F', 'S', 'F', 'F', 'S')  é igual a  0.00010\n",
      "Probabilidade de  ('S', 'S', 'F', 'S', 'F', 'F', 'F')  é igual a  0.00001\n",
      "Probabilidade de  ('S', 'S', 'F', 'F', 'S', 'S', 'S')  é igual a  0.00193\n",
      "Probabilidade de  ('S', 'S', 'F', 'F', 'S', 'S', 'F')  é igual a  0.00010\n",
      "Probabilidade de  ('S', 'S', 'F', 'F', 'S', 'F', 'S')  é igual a  0.00010\n",
      "Probabilidade de  ('S', 'S', 'F', 'F', 'S', 'F', 'F')  é igual a  0.00001\n",
      "Probabilidade de  ('S', 'S', 'F', 'F', 'F', 'S', 'S')  é igual a  0.00010\n",
      "Probabilidade de  ('S', 'S', 'F', 'F', 'F', 'S', 'F')  é igual a  0.00001\n",
      "Probabilidade de  ('S', 'S', 'F', 'F', 'F', 'F', 'S')  é igual a  0.00001\n",
      "Probabilidade de  ('S', 'S', 'F', 'F', 'F', 'F', 'F')  é igual a  0.00000\n",
      "Probabilidade de  ('S', 'F', 'S', 'S', 'S', 'S', 'S')  é igual a  0.03675\n",
      "Probabilidade de  ('S', 'F', 'S', 'S', 'S', 'S', 'F')  é igual a  0.00193\n",
      "Probabilidade de  ('S', 'F', 'S', 'S', 'S', 'F', 'S')  é igual a  0.00193\n",
      "Probabilidade de  ('S', 'F', 'S', 'S', 'S', 'F', 'F')  é igual a  0.00010\n",
      "Probabilidade de  ('S', 'F', 'S', 'S', 'F', 'S', 'S')  é igual a  0.00193\n",
      "Probabilidade de  ('S', 'F', 'S', 'S', 'F', 'S', 'F')  é igual a  0.00010\n",
      "Probabilidade de  ('S', 'F', 'S', 'S', 'F', 'F', 'S')  é igual a  0.00010\n",
      "Probabilidade de  ('S', 'F', 'S', 'S', 'F', 'F', 'F')  é igual a  0.00001\n",
      "Probabilidade de  ('S', 'F', 'S', 'F', 'S', 'S', 'S')  é igual a  0.00193\n",
      "Probabilidade de  ('S', 'F', 'S', 'F', 'S', 'S', 'F')  é igual a  0.00010\n",
      "Probabilidade de  ('S', 'F', 'S', 'F', 'S', 'F', 'S')  é igual a  0.00010\n",
      "Probabilidade de  ('S', 'F', 'S', 'F', 'S', 'F', 'F')  é igual a  0.00001\n",
      "Probabilidade de  ('S', 'F', 'S', 'F', 'F', 'S', 'S')  é igual a  0.00010\n",
      "Probabilidade de  ('S', 'F', 'S', 'F', 'F', 'S', 'F')  é igual a  0.00001\n",
      "Probabilidade de  ('S', 'F', 'S', 'F', 'F', 'F', 'S')  é igual a  0.00001\n",
      "Probabilidade de  ('S', 'F', 'S', 'F', 'F', 'F', 'F')  é igual a  0.00000\n",
      "Probabilidade de  ('S', 'F', 'F', 'S', 'S', 'S', 'S')  é igual a  0.00193\n",
      "Probabilidade de  ('S', 'F', 'F', 'S', 'S', 'S', 'F')  é igual a  0.00010\n",
      "Probabilidade de  ('S', 'F', 'F', 'S', 'S', 'F', 'S')  é igual a  0.00010\n",
      "Probabilidade de  ('S', 'F', 'F', 'S', 'S', 'F', 'F')  é igual a  0.00001\n",
      "Probabilidade de  ('S', 'F', 'F', 'S', 'F', 'S', 'S')  é igual a  0.00010\n",
      "Probabilidade de  ('S', 'F', 'F', 'S', 'F', 'S', 'F')  é igual a  0.00001\n",
      "Probabilidade de  ('S', 'F', 'F', 'S', 'F', 'F', 'S')  é igual a  0.00001\n",
      "Probabilidade de  ('S', 'F', 'F', 'S', 'F', 'F', 'F')  é igual a  0.00000\n",
      "Probabilidade de  ('S', 'F', 'F', 'F', 'S', 'S', 'S')  é igual a  0.00010\n",
      "Probabilidade de  ('S', 'F', 'F', 'F', 'S', 'S', 'F')  é igual a  0.00001\n",
      "Probabilidade de  ('S', 'F', 'F', 'F', 'S', 'F', 'S')  é igual a  0.00001\n",
      "Probabilidade de  ('S', 'F', 'F', 'F', 'S', 'F', 'F')  é igual a  0.00000\n",
      "Probabilidade de  ('S', 'F', 'F', 'F', 'F', 'S', 'S')  é igual a  0.00001\n",
      "Probabilidade de  ('S', 'F', 'F', 'F', 'F', 'S', 'F')  é igual a  0.00000\n",
      "Probabilidade de  ('S', 'F', 'F', 'F', 'F', 'F', 'S')  é igual a  0.00000\n",
      "Probabilidade de  ('S', 'F', 'F', 'F', 'F', 'F', 'F')  é igual a  0.00000\n",
      "Probabilidade de  ('F', 'S', 'S', 'S', 'S', 'S', 'S')  é igual a  0.03675\n",
      "Probabilidade de  ('F', 'S', 'S', 'S', 'S', 'S', 'F')  é igual a  0.00193\n",
      "Probabilidade de  ('F', 'S', 'S', 'S', 'S', 'F', 'S')  é igual a  0.00193\n",
      "Probabilidade de  ('F', 'S', 'S', 'S', 'S', 'F', 'F')  é igual a  0.00010\n",
      "Probabilidade de  ('F', 'S', 'S', 'S', 'F', 'S', 'S')  é igual a  0.00193\n",
      "Probabilidade de  ('F', 'S', 'S', 'S', 'F', 'S', 'F')  é igual a  0.00010\n",
      "Probabilidade de  ('F', 'S', 'S', 'S', 'F', 'F', 'S')  é igual a  0.00010\n",
      "Probabilidade de  ('F', 'S', 'S', 'S', 'F', 'F', 'F')  é igual a  0.00001\n",
      "Probabilidade de  ('F', 'S', 'S', 'F', 'S', 'S', 'S')  é igual a  0.00193\n",
      "Probabilidade de  ('F', 'S', 'S', 'F', 'S', 'S', 'F')  é igual a  0.00010\n",
      "Probabilidade de  ('F', 'S', 'S', 'F', 'S', 'F', 'S')  é igual a  0.00010\n",
      "Probabilidade de  ('F', 'S', 'S', 'F', 'S', 'F', 'F')  é igual a  0.00001\n",
      "Probabilidade de  ('F', 'S', 'S', 'F', 'F', 'S', 'S')  é igual a  0.00010\n",
      "Probabilidade de  ('F', 'S', 'S', 'F', 'F', 'S', 'F')  é igual a  0.00001\n",
      "Probabilidade de  ('F', 'S', 'S', 'F', 'F', 'F', 'S')  é igual a  0.00001\n",
      "Probabilidade de  ('F', 'S', 'S', 'F', 'F', 'F', 'F')  é igual a  0.00000\n",
      "Probabilidade de  ('F', 'S', 'F', 'S', 'S', 'S', 'S')  é igual a  0.00193\n",
      "Probabilidade de  ('F', 'S', 'F', 'S', 'S', 'S', 'F')  é igual a  0.00010\n",
      "Probabilidade de  ('F', 'S', 'F', 'S', 'S', 'F', 'S')  é igual a  0.00010\n",
      "Probabilidade de  ('F', 'S', 'F', 'S', 'S', 'F', 'F')  é igual a  0.00001\n",
      "Probabilidade de  ('F', 'S', 'F', 'S', 'F', 'S', 'S')  é igual a  0.00010\n",
      "Probabilidade de  ('F', 'S', 'F', 'S', 'F', 'S', 'F')  é igual a  0.00001\n",
      "Probabilidade de  ('F', 'S', 'F', 'S', 'F', 'F', 'S')  é igual a  0.00001\n",
      "Probabilidade de  ('F', 'S', 'F', 'S', 'F', 'F', 'F')  é igual a  0.00000\n",
      "Probabilidade de  ('F', 'S', 'F', 'F', 'S', 'S', 'S')  é igual a  0.00010\n",
      "Probabilidade de  ('F', 'S', 'F', 'F', 'S', 'S', 'F')  é igual a  0.00001\n",
      "Probabilidade de  ('F', 'S', 'F', 'F', 'S', 'F', 'S')  é igual a  0.00001\n",
      "Probabilidade de  ('F', 'S', 'F', 'F', 'S', 'F', 'F')  é igual a  0.00000\n",
      "Probabilidade de  ('F', 'S', 'F', 'F', 'F', 'S', 'S')  é igual a  0.00001\n",
      "Probabilidade de  ('F', 'S', 'F', 'F', 'F', 'S', 'F')  é igual a  0.00000\n",
      "Probabilidade de  ('F', 'S', 'F', 'F', 'F', 'F', 'S')  é igual a  0.00000\n",
      "Probabilidade de  ('F', 'S', 'F', 'F', 'F', 'F', 'F')  é igual a  0.00000\n",
      "Probabilidade de  ('F', 'F', 'S', 'S', 'S', 'S', 'S')  é igual a  0.00193\n",
      "Probabilidade de  ('F', 'F', 'S', 'S', 'S', 'S', 'F')  é igual a  0.00010\n",
      "Probabilidade de  ('F', 'F', 'S', 'S', 'S', 'F', 'S')  é igual a  0.00010\n",
      "Probabilidade de  ('F', 'F', 'S', 'S', 'S', 'F', 'F')  é igual a  0.00001\n",
      "Probabilidade de  ('F', 'F', 'S', 'S', 'F', 'S', 'S')  é igual a  0.00010\n",
      "Probabilidade de  ('F', 'F', 'S', 'S', 'F', 'S', 'F')  é igual a  0.00001\n",
      "Probabilidade de  ('F', 'F', 'S', 'S', 'F', 'F', 'S')  é igual a  0.00001\n",
      "Probabilidade de  ('F', 'F', 'S', 'S', 'F', 'F', 'F')  é igual a  0.00000\n",
      "Probabilidade de  ('F', 'F', 'S', 'F', 'S', 'S', 'S')  é igual a  0.00010\n",
      "Probabilidade de  ('F', 'F', 'S', 'F', 'S', 'S', 'F')  é igual a  0.00001\n",
      "Probabilidade de  ('F', 'F', 'S', 'F', 'S', 'F', 'S')  é igual a  0.00001\n",
      "Probabilidade de  ('F', 'F', 'S', 'F', 'S', 'F', 'F')  é igual a  0.00000\n",
      "Probabilidade de  ('F', 'F', 'S', 'F', 'F', 'S', 'S')  é igual a  0.00001\n",
      "Probabilidade de  ('F', 'F', 'S', 'F', 'F', 'S', 'F')  é igual a  0.00000\n",
      "Probabilidade de  ('F', 'F', 'S', 'F', 'F', 'F', 'S')  é igual a  0.00000\n",
      "Probabilidade de  ('F', 'F', 'S', 'F', 'F', 'F', 'F')  é igual a  0.00000\n",
      "Probabilidade de  ('F', 'F', 'F', 'S', 'S', 'S', 'S')  é igual a  0.00010\n",
      "Probabilidade de  ('F', 'F', 'F', 'S', 'S', 'S', 'F')  é igual a  0.00001\n",
      "Probabilidade de  ('F', 'F', 'F', 'S', 'S', 'F', 'S')  é igual a  0.00001\n",
      "Probabilidade de  ('F', 'F', 'F', 'S', 'S', 'F', 'F')  é igual a  0.00000\n",
      "Probabilidade de  ('F', 'F', 'F', 'S', 'F', 'S', 'S')  é igual a  0.00001\n",
      "Probabilidade de  ('F', 'F', 'F', 'S', 'F', 'S', 'F')  é igual a  0.00000\n",
      "Probabilidade de  ('F', 'F', 'F', 'S', 'F', 'F', 'S')  é igual a  0.00000\n",
      "Probabilidade de  ('F', 'F', 'F', 'S', 'F', 'F', 'F')  é igual a  0.00000\n",
      "Probabilidade de  ('F', 'F', 'F', 'F', 'S', 'S', 'S')  é igual a  0.00001\n",
      "Probabilidade de  ('F', 'F', 'F', 'F', 'S', 'S', 'F')  é igual a  0.00000\n",
      "Probabilidade de  ('F', 'F', 'F', 'F', 'S', 'F', 'S')  é igual a  0.00000\n",
      "Probabilidade de  ('F', 'F', 'F', 'F', 'S', 'F', 'F')  é igual a  0.00000\n",
      "Probabilidade de  ('F', 'F', 'F', 'F', 'F', 'S', 'S')  é igual a  0.00000\n",
      "Probabilidade de  ('F', 'F', 'F', 'F', 'F', 'S', 'F')  é igual a  0.00000\n",
      "Probabilidade de  ('F', 'F', 'F', 'F', 'F', 'F', 'S')  é igual a  0.00000\n",
      "Probabilidade de  ('F', 'F', 'F', 'F', 'F', 'F', 'F')  é igual a  0.00000\n"
     ]
    }
   ],
   "source": [
    "prob_EA = []\n",
    "\n",
    "for i in EA:\n",
    "    p = 1.0\n",
    "    for e in i:\n",
    "        p*=prob[e]\n",
    "    prob_EA.append(p)\n",
    "    print(\"Probabilidade de \",i,\" é igual a \",\"%3.5f\"%p)"
   ]
  },
  {
   "cell_type": "code",
   "execution_count": 21,
   "metadata": {},
   "outputs": [
    {
     "name": "stdout",
     "output_type": "stream",
     "text": [
      "Distribuição de probabilidades dos resistores que falharam\n",
      "\n",
      "Falhas:  0  Probabilidade 0.69834 \n",
      "Falhas:  1  Probabilidade 0.25728 \n",
      "Falhas:  2  Probabilidade 0.04062 \n",
      "Falhas:  3  Probabilidade 0.00356 \n",
      "Falhas:  4  Probabilidade 0.00019 \n",
      "Falhas:  5  Probabilidade 0.00001 \n",
      "Falhas:  6  Probabilidade 0.00000 \n",
      "Falhas:  7  Probabilidade 0.00000 \n"
     ]
    }
   ],
   "source": [
    "#B-distribuição probs\n",
    "\n",
    "# Dicionário para acumular a variável aleatória. \n",
    "val_Y = {}\n",
    "\n",
    "for i in range(len(EA)):\n",
    "    y = EA[i].count(\"F\")\n",
    "    # Checar antes se a chave está no dicionário\n",
    "    if y in val_Y:\n",
    "        val_Y[y] += prob_EA[i]\n",
    "    else:\n",
    "        val_Y[y] = prob_EA[i]\n",
    "        \n",
    "print(\"Distribuição de probabilidades dos resistores que falharam\")\n",
    "print('')\n",
    "for y in val_Y:\n",
    "    print(\"Falhas: \", y, \" Probabilidade\", \"%6.5f \"%val_Y[y])"
   ]
  },
  {
   "cell_type": "code",
   "execution_count": 22,
   "metadata": {},
   "outputs": [
    {
     "name": "stdout",
     "output_type": "stream",
     "text": [
      "Média: 0.35001000000000004 Desvio Padrão: 0.5766281298202507\n"
     ]
    }
   ],
   "source": [
    "#C- media e desvio\n",
    "\n",
    "media = 0.69834*0 +  0.25728*1 + 0.04062 *2 + 0.00356* 3 + 0.00019*4 + 0.00001*5 + 0.00000*6 + 0.00000*7\n",
    "\n",
    "Var = 0\n",
    "for i in val_Y:\n",
    "    Var = Var+(i-media)**2*val_Y[i]\n",
    "desvio = (Var)**(1/2)\n",
    "\n",
    "print('Média:',media,'Desvio Padrão:',desvio)"
   ]
  },
  {
   "cell_type": "code",
   "execution_count": 23,
   "metadata": {},
   "outputs": [
    {
     "name": "stdout",
     "output_type": "stream",
     "text": [
      "0.99999999453125\n",
      "5.4687499743652275e-09\n",
      "1.281738276243209e-17\n",
      "1.6689300484955317e-26\n"
     ]
    }
   ],
   "source": [
    "#D-distribuiçao de falhas para n=7\n",
    "\n",
    "n=7\n",
    "for i in range(4):\n",
    "    prob3 = stats.binom.pmf(i, n, p)\n",
    "    print(prob3)"
   ]
  },
  {
   "cell_type": "code",
   "execution_count": 24,
   "metadata": {},
   "outputs": [
    {
     "name": "stdout",
     "output_type": "stream",
     "text": [
      "0.35000000000000003\n",
      "0.3325\n"
     ]
    }
   ],
   "source": [
    "n = 7\n",
    "p = 0.05\n",
    "E,Var = stats.binom.stats(n, p, moments='mv')\n",
    "print(E) #E(Y)\n",
    "print(Var) #Var(Y)"
   ]
  },
  {
   "cell_type": "code",
   "execution_count": 25,
   "metadata": {},
   "outputs": [
    {
     "name": "stdout",
     "output_type": "stream",
     "text": [
      "0.005920529220334023\n",
      "0.031160680107020593\n",
      "0.08118177185776551\n",
      "0.1395756779308903\n",
      "0.17814264156968956\n",
      "0.18001782727043672\n",
      "0.15001485605869255\n",
      "0.10602553736478391\n",
      "0.06487088799292766\n",
      "0.034901296464031804\n",
      "0.016715884095931225\n",
      "0.007198227601119233\n",
      "0.0028098344583314945\n",
      "0.001001074624830605\n",
      "0.00032741914421153287\n",
      "9.880016281470898e-05\n",
      "2.762504552384916e-05\n",
      "7.184222365335237e-06\n",
      "1.7435393459730753e-06\n",
      "3.960394082265668e-07\n",
      "8.441892649039948e-08\n",
      "1.6926100549455788e-08\n",
      "3.1989520177198604e-09\n",
      "5.709799940094749e-10\n",
      "9.641548144458742e-11\n",
      "1.5426477031134177e-11\n",
      "2.342076472338194e-12\n",
      "3.378433897719589e-13\n",
      "4.635820949878521e-14\n",
      "6.057697066992019e-15\n",
      "7.545552486954989e-16\n",
      "8.967549644937655e-17\n",
      "1.0176988906261349e-17\n",
      "1.103724474682234e-18\n",
      "1.1447297183237642e-19\n",
      "1.136122727960414e-20\n",
      "1.0796487911904692e-21\n",
      "9.828950588362538e-23\n",
      "8.57650813111966e-24\n",
      "7.176025696753232e-25\n",
      "5.759704835551648e-26\n",
      "4.4362296551107064e-27\n",
      "3.2799191685654777e-28\n",
      "2.3284615884552994e-29\n",
      "1.5875874466740437e-30\n",
      "1.0398233568858872e-31\n",
      "6.54351082708553e-33\n",
      "3.9568822470616705e-34\n",
      "2.2995039374371777e-35\n",
      "1.2843631014686863e-36\n",
      "6.895001913147869e-38\n",
      "3.557792524843995e-39\n",
      "1.7644922441027892e-40\n",
      "8.41068795600115e-42\n",
      "3.852849258597185e-43\n",
      "1.6959910612005348e-44\n",
      "7.172894525754572e-46\n",
      "2.91419537519114e-47\n",
      "1.1371179776154448e-48\n",
      "4.260388497756382e-50\n",
      "1.532244986035074e-51\n",
      "5.288162160604584e-53\n",
      "1.750749781524447e-54\n",
      "5.557935814363231e-56\n",
      "1.6911482329888526e-57\n",
      "4.929662865392653e-59\n",
      "1.375902713626292e-60\n",
      "3.6748383553253443e-62\n",
      "9.386197037596014e-64\n",
      "2.2910625873613365e-65\n",
      "5.340070692346171e-67\n",
      "1.187562051670742e-68\n",
      "2.5174926533955918e-70\n",
      "5.082176949897133e-72\n",
      "9.759514768650905e-74\n",
      "1.7806833963854476e-75\n",
      "3.0829006170107685e-77\n",
      "5.0573899390468665e-79\n",
      "7.848850782596402e-81\n",
      "1.1503978495478774e-82\n",
      "1.589365450033029e-84\n",
      "2.0654521767810498e-86\n",
      "2.518844118025753e-88\n",
      "2.8750281626167197e-90\n",
      "3.0623733561708156e-92\n",
      "3.033930259983407e-94\n",
      "2.785125697659298e-96\n",
      "2.358848140788049e-98\n",
      "1.8340326453496333e-100\n",
      "1.3015015815610362e-102\n",
      "8.372232396005955e-105\n",
      "4.842239673803371e-107\n",
      "2.4931439968094557e-109\n",
      "1.128757893292352e-111\n",
      "4.424023098010564e-114\n",
      "1.4705893954605658e-116\n",
      "4.031220930538608e-119\n",
      "8.749258666388875e-122\n",
      "1.40965499458467e-124\n",
      "1.4988357199199091e-127\n",
      "7.888609052210354e-131\n"
     ]
    }
   ],
   "source": [
    "#3-A-distribuiçao de falhas para n=100\n",
    "\n",
    "\n",
    "n=100\n",
    "for i in range(101):\n",
    "    prob4 = stats.binom.pmf(i, n, p)\n",
    "    print(prob4)"
   ]
  },
  {
   "cell_type": "code",
   "execution_count": 26,
   "metadata": {},
   "outputs": [
    {
     "name": "stdout",
     "output_type": "stream",
     "text": [
      "5.0\n",
      "4.75\n"
     ]
    }
   ],
   "source": [
    "n=100\n",
    "p = 0.05\n",
    "E,Var = stats.binom.stats(n, p, moments='mv')\n",
    "print(E) #E(Y)\n",
    "print(Var) #Var(Y)"
   ]
  },
  {
   "cell_type": "code",
   "execution_count": 27,
   "metadata": {},
   "outputs": [
    {
     "name": "stdout",
     "output_type": "stream",
     "text": [
      "A probabilidade de metade falhar é de: 0.8720395213796206\n"
     ]
    }
   ],
   "source": [
    "#B-Probabilidade de metade dos resistores apresentarem falha\n",
    "\n",
    "n = 100\n",
    "p = 0.05\n",
    "prob in range (49)\n",
    "print('A probabilidade de metade falhar é de: {0}'.format(stats.binom.cdf(y, n, p)))"
   ]
  },
  {
   "cell_type": "markdown",
   "metadata": {
    "collapsed": true
   },
   "source": [
    "___\n",
    "## <font color='blue'>Exercício 2</font>\n",
    "\n",
    "Esse exercício irá explorar modelos de distribuição de Poisson.\n",
    "\n",
    "Uma fábrica produz determinado veículo. O gerente de vendas fechou um negócio que implica na produção de pelo menos 110 unidades nos próximos dois meses. Para isso, será construída uma nova linha de montagem com capacidade para produzir em média 50 veículos por mês (considere meses de 30 dias). A linha funcionará ininterruptamente. Além disso, apenas um veículo é produzido por vez. Considere que um modelo Poisson seja adequado para a quantidade de veículos produzidos.\n",
    "   1. Qual a probabilidade  da produção ser igual a 100 veículos nos próximos dois meses?\n",
    "   2. Qual a probabilidade  da produção ser de pelo menos 100 veículos nos próximos dois meses?\n",
    "   3. Qual a probabilidade da produção ser entre 100 e 110 veículos nos próximos dois meses?\n",
    "   4. Se forem produzidos de pelo menos 100 veículos no próximo mês, qual a probabilidade do gerente cumprir a meta negociada?\n",
    "   5. Caso o prazo seja cumprido, o lucro será da ordem de $250$ mil, caso não seja, o lucro cai para $200$ mil. Qual é o lucro esperado e seu desvio-padrão?\n",
    "\n",
    "**Observação:** Explore os comandos de `stats.poisson`. <sup>[http://docs.scipy.org/doc/scipy/reference/generated/scipy.stats.poisson.html]\n"
   ]
  },
  {
   "cell_type": "code",
   "execution_count": null,
   "metadata": {},
   "outputs": [],
   "source": []
  }
 ],
 "metadata": {
  "anaconda-cloud": {},
  "kernelspec": {
   "display_name": "Python 3",
   "language": "python",
   "name": "python3"
  },
  "language_info": {
   "codemirror_mode": {
    "name": "ipython",
    "version": 3
   },
   "file_extension": ".py",
   "mimetype": "text/x-python",
   "name": "python",
   "nbconvert_exporter": "python",
   "pygments_lexer": "ipython3",
   "version": "3.6.4"
  }
 },
 "nbformat": 4,
 "nbformat_minor": 1
}
